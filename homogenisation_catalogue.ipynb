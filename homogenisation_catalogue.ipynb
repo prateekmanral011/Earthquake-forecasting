{
  "nbformat": 4,
  "nbformat_minor": 0,
  "metadata": {
    "colab": {
      "provenance": [],
      "authorship_tag": "ABX9TyNxRAOT5MXkEyWLcihx82mP",
      "include_colab_link": true
    },
    "kernelspec": {
      "name": "python3",
      "display_name": "Python 3"
    },
    "language_info": {
      "name": "python"
    }
  },
  "cells": [
    {
      "cell_type": "markdown",
      "metadata": {
        "id": "view-in-github",
        "colab_type": "text"
      },
      "source": [
        "<a href=\"https://colab.research.google.com/github/prateekmanral011/Earthquake-forecasting/blob/main/homogenisation_catalogue.ipynb\" target=\"_parent\"><img src=\"https://colab.research.google.com/assets/colab-badge.svg\" alt=\"Open In Colab\"/></a>"
      ]
    },
    {
      "cell_type": "code",
      "source": [],
      "metadata": {
        "id": "YCizN7ZMR04t"
      },
      "execution_count": null,
      "outputs": []
    },
    {
      "cell_type": "code",
      "source": [
        "##homogenising earthquake catalogue to Mw\n",
        "import pandas as pd\n",
        "import numpy as np\n",
        "from google.colab import files\n",
        "\n",
        "# Load the dataset\n",
        "df = pd.read_csv(\"/content/raw_catalogue.csv\")\n",
        "\n",
        "# Clean column names\n",
        "df.columns = df.columns.str.strip().str.lower()\n",
        "# Check if 'magtype' column exists before processing\n",
        "if 'magtype' in df.columns:\n",
        "    df['magtype'] = df['magtype'].str.strip().str.lower()\n",
        "\n",
        "    # Define conversion functions\n",
        "    def compute_log_M0_mb(mb):\n",
        "        return 18.75 + 0.496 * mb + 0.094 * (mb ** 2)\n",
        "\n",
        "    def compute_log_M0_Ms(Ms):\n",
        "        return 24.67 - 1.077 * Ms + 0.190 * (Ms ** 2)\n",
        "\n",
        "    def compute_Mw(log_M0):\n",
        "        return (2 / 3) * log_M0 - 10.7\n",
        "\n",
        "    # Apply conversion\n",
        "    def convert_to_Mw(row):\n",
        "        if row['magtype'] == 'mb':\n",
        "            return compute_Mw(compute_log_M0_mb(row['mag']))\n",
        "        elif row['magtype'] == 'ms':\n",
        "            return compute_Mw(compute_log_M0_Ms(row['mag']))\n",
        "        else:\n",
        "            return row['mag']  # Already Mw or other types\n",
        "\n",
        "    # Create homogenized Mw column\n",
        "    df['Mw'] = df.apply(convert_to_Mw, axis=1)\n",
        "else:\n",
        "    # If 'magtype' is not present, assume 'mag' is already Mw\n",
        "    df['Mw'] = df['mag']\n",
        "\n",
        "# Optional: extract date only\n",
        "df['date'] = pd.to_datetime(df['time']).dt.date\n",
        "\n",
        "# Create final output with just time and homogenized Mw\n",
        "output_df = df[['date', 'Mw']]\n",
        "\n",
        "\n",
        "\n",
        "# Optional: extract date only\n",
        "df['date'] = pd.to_datetime(df['time'])\n",
        "\n",
        "# Final output including location\n",
        "output_df = df[['date', 'latitude', 'longitude', 'Mw','id']]\n",
        "\n",
        "# Save and download\n",
        "output_df.to_csv(\"/content/homogenized_catalogue.csv\", index=False)\n",
        "files.download(\"/content/homogenized_catalogue.csv\")\n",
        "\n"
      ],
      "metadata": {
        "colab": {
          "base_uri": "https://localhost:8080/",
          "height": 17
        },
        "id": "zNV9SQHM0_FH",
        "outputId": "e3e4b083-7145-4906-e5df-5817635c6818"
      },
      "execution_count": null,
      "outputs": [
        {
          "output_type": "display_data",
          "data": {
            "text/plain": [
              "<IPython.core.display.Javascript object>"
            ],
            "application/javascript": [
              "\n",
              "    async function download(id, filename, size) {\n",
              "      if (!google.colab.kernel.accessAllowed) {\n",
              "        return;\n",
              "      }\n",
              "      const div = document.createElement('div');\n",
              "      const label = document.createElement('label');\n",
              "      label.textContent = `Downloading \"${filename}\": `;\n",
              "      div.appendChild(label);\n",
              "      const progress = document.createElement('progress');\n",
              "      progress.max = size;\n",
              "      div.appendChild(progress);\n",
              "      document.body.appendChild(div);\n",
              "\n",
              "      const buffers = [];\n",
              "      let downloaded = 0;\n",
              "\n",
              "      const channel = await google.colab.kernel.comms.open(id);\n",
              "      // Send a message to notify the kernel that we're ready.\n",
              "      channel.send({})\n",
              "\n",
              "      for await (const message of channel.messages) {\n",
              "        // Send a message to notify the kernel that we're ready.\n",
              "        channel.send({})\n",
              "        if (message.buffers) {\n",
              "          for (const buffer of message.buffers) {\n",
              "            buffers.push(buffer);\n",
              "            downloaded += buffer.byteLength;\n",
              "            progress.value = downloaded;\n",
              "          }\n",
              "        }\n",
              "      }\n",
              "      const blob = new Blob(buffers, {type: 'application/binary'});\n",
              "      const a = document.createElement('a');\n",
              "      a.href = window.URL.createObjectURL(blob);\n",
              "      a.download = filename;\n",
              "      div.appendChild(a);\n",
              "      a.click();\n",
              "      div.remove();\n",
              "    }\n",
              "  "
            ]
          },
          "metadata": {}
        },
        {
          "output_type": "display_data",
          "data": {
            "text/plain": [
              "<IPython.core.display.Javascript object>"
            ],
            "application/javascript": [
              "download(\"download_aaac11d0-53d3-4a70-8be0-72ed0161aa92\", \"final_1.csv\", 480878)"
            ]
          },
          "metadata": {}
        }
      ]
    }
  ]
}