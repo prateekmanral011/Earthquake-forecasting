{
  "nbformat": 4,
  "nbformat_minor": 0,
  "metadata": {
    "colab": {
      "provenance": [],
      "authorship_tag": "ABX9TyOJps0njCUX5QJUWWxH3nef",
      "include_colab_link": true
    },
    "kernelspec": {
      "name": "python3",
      "display_name": "Python 3"
    },
    "language_info": {
      "name": "python"
    }
  },
  "cells": [
    {
      "cell_type": "markdown",
      "metadata": {
        "id": "view-in-github",
        "colab_type": "text"
      },
      "source": [
        "<a href=\"https://colab.research.google.com/github/prateekmanral011/Earthquake-forecasting/blob/main/mainshock.ipynb\" target=\"_parent\"><img src=\"https://colab.research.google.com/assets/colab-badge.svg\" alt=\"Open In Colab\"/></a>"
      ]
    },
    {
      "cell_type": "code",
      "source": [
        "from google.colab import drive\n",
        "drive.mount('/content/drive')"
      ],
      "metadata": {
        "id": "yAhaNyB6IEDx"
      },
      "execution_count": null,
      "outputs": []
    },
    {
      "cell_type": "code",
      "source": [],
      "metadata": {
        "id": "W_J1ivwpHgak"
      },
      "execution_count": null,
      "outputs": []
    },
    {
      "cell_type": "code",
      "source": [],
      "metadata": {
        "id": "RcUcJCU6Y8lG"
      },
      "execution_count": null,
      "outputs": []
    },
    {
      "cell_type": "code",
      "source": [
        "##Declustering for magnitude Mw > 5\n",
        "import pandas as pd\n",
        "import numpy as np\n",
        "from datetime import timedelta\n",
        "from geopy.distance import geodesic\n",
        "\n",
        "# === Load Earthquake Catalog ===\n",
        "df = pd.read_csv('/content/homogenised_catalogue.csv')\n",
        "df.columns = df.columns.str.strip()\n",
        "df['date'] = pd.to_datetime(df['date'], format='mixed')\n",
        "df = df.rename(columns={'Mw': 'Magnitude'})  # internal consistency\n",
        "df = df.sort_values('date').reset_index(drop=True)\n",
        "\n",
        "# === Gardner & Knopoff Time and Space Windows (days, km) ===\n",
        "windows = [\n",
        "    (5.0, 5.5, 223, 43.5),\n",
        "    (5.5, 6.0, 400, 51),\n",
        "    (6.0, 6.5, 680, 58),\n",
        "    (6.5, 7.0, 883, 66),\n",
        "    (7.0, 7.5, 938, 76),\n",
        "    (7.5, 8.0, 973, 88),\n",
        "    (8.0, 8.5, 1006, 102),\n",
        "    (8.5, 9.2, 1065, 130)\n",
        "]\n",
        "\n",
        "def get_window(mag):\n",
        "    for mag_min, mag_max, t_win, d_win in windows:\n",
        "        if mag_min <= mag < mag_max:\n",
        "            return t_win, d_win\n",
        "    return 0, 0  # Events with mag < 5.0 will be ignored\n",
        "\n",
        "# === Declustering Process ===\n",
        "declustered_indices = []\n",
        "used = np.zeros(len(df), dtype=bool)\n",
        "aftershock_indices = []\n",
        "\n",
        "for i, row in df.iterrows():\n",
        "    if used[i]:\n",
        "        continue\n",
        "\n",
        "    mag = row['Magnitude']\n",
        "    if mag < 5.0:\n",
        "        continue  # Ignore events below threshold\n",
        "\n",
        "    # Mark as mainshock\n",
        "    declustered_indices.append(i)\n",
        "    date = row['date']\n",
        "    lat = row['latitude']\n",
        "    lon = row['longitude']\n",
        "    #id = row['id']\n",
        "\n",
        "    t_win, d_win = get_window(mag)\n",
        "    t_end = date + timedelta(days=t_win)\n",
        "\n",
        "    for j in range(i + 1, len(df)):\n",
        "        if df.loc[j, 'date'] > t_end:\n",
        "            break\n",
        "        if used[j]:\n",
        "            continue\n",
        "\n",
        "        # Compute distance and magnitude condition\n",
        "        dist = geodesic((lat, lon), (df.loc[j, 'latitude'], df.loc[j, 'longitude'])).km\n",
        "        if dist <= d_win and df.loc[j, 'Magnitude'] < mag:\n",
        "            used[j] = True\n",
        "            aftershock_indices.append(j)\n",
        "\n",
        "# === Build Final DataFrames ===\n",
        "mainshocks_df = df.loc[declustered_indices].reset_index(drop=True)\n",
        "aftershocks_df = df.loc[aftershock_indices].reset_index(drop=True)\n",
        "\n",
        "# === Format Columns for Output Consistency ===\n",
        "mainshocks_df = mainshocks_df[['date', 'latitude', 'longitude', 'Magnitude', 'id']].rename(columns={'Magnitude': 'Mw'})\n",
        "aftershocks_df = aftershocks_df[['date', 'latitude', 'longitude', 'Magnitude', 'id']].rename(columns={'Magnitude': 'Mw'})\n",
        "\n",
        "# === Save to CSV Files ===\n",
        "mainshocks_df.to_csv('mainshock_catalogue.csv', index=False)\n",
        "aftershocks_df.to_csv('aftershocks_catalog_.csv', index=False)\n",
        "\n",
        "# === Print Summary ===\n",
        "print(f\"✅ Total events in catalog: {len(df)}\")\n",
        "print(f\"✅ Mainshocks identified: {len(mainshocks_df)}\")\n",
        "print(f\"✅ Aftershocks identified: {len(aftershocks_df)}\")\n",
        "\n",
        "from google.colab import files\n",
        "\n",
        "# Download both files\n",
        "files.download('mainshock_catalogue.csv')\n",
        "files.download('aftershocks_catalog_.csv')\n",
        "\n"
      ],
      "metadata": {
        "colab": {
          "base_uri": "https://localhost:8080/",
          "height": 69
        },
        "outputId": "0caf394a-45a9-4f58-bae2-a81103d1e32a",
        "id": "7r5F12qhj-Xu"
      },
      "execution_count": 3,
      "outputs": [
        {
          "output_type": "stream",
          "name": "stdout",
          "text": [
            "✅ Total events in catalog: 7065\n",
            "✅ Mainshocks identified: 4304\n",
            "✅ Aftershocks identified: 2761\n"
          ]
        },
        {
          "output_type": "display_data",
          "data": {
            "text/plain": [
              "<IPython.core.display.Javascript object>"
            ],
            "application/javascript": [
              "\n",
              "    async function download(id, filename, size) {\n",
              "      if (!google.colab.kernel.accessAllowed) {\n",
              "        return;\n",
              "      }\n",
              "      const div = document.createElement('div');\n",
              "      const label = document.createElement('label');\n",
              "      label.textContent = `Downloading \"${filename}\": `;\n",
              "      div.appendChild(label);\n",
              "      const progress = document.createElement('progress');\n",
              "      progress.max = size;\n",
              "      div.appendChild(progress);\n",
              "      document.body.appendChild(div);\n",
              "\n",
              "      const buffers = [];\n",
              "      let downloaded = 0;\n",
              "\n",
              "      const channel = await google.colab.kernel.comms.open(id);\n",
              "      // Send a message to notify the kernel that we're ready.\n",
              "      channel.send({})\n",
              "\n",
              "      for await (const message of channel.messages) {\n",
              "        // Send a message to notify the kernel that we're ready.\n",
              "        channel.send({})\n",
              "        if (message.buffers) {\n",
              "          for (const buffer of message.buffers) {\n",
              "            buffers.push(buffer);\n",
              "            downloaded += buffer.byteLength;\n",
              "            progress.value = downloaded;\n",
              "          }\n",
              "        }\n",
              "      }\n",
              "      const blob = new Blob(buffers, {type: 'application/binary'});\n",
              "      const a = document.createElement('a');\n",
              "      a.href = window.URL.createObjectURL(blob);\n",
              "      a.download = filename;\n",
              "      div.appendChild(a);\n",
              "      a.click();\n",
              "      div.remove();\n",
              "    }\n",
              "  "
            ]
          },
          "metadata": {}
        },
        {
          "output_type": "display_data",
          "data": {
            "text/plain": [
              "<IPython.core.display.Javascript object>"
            ],
            "application/javascript": [
              "download(\"download_a1e1782f-8116-4ab0-bf8f-28ec41f759f0\", \"mainshock_catalogue.csv\", 292129)"
            ]
          },
          "metadata": {}
        },
        {
          "output_type": "display_data",
          "data": {
            "text/plain": [
              "<IPython.core.display.Javascript object>"
            ],
            "application/javascript": [
              "\n",
              "    async function download(id, filename, size) {\n",
              "      if (!google.colab.kernel.accessAllowed) {\n",
              "        return;\n",
              "      }\n",
              "      const div = document.createElement('div');\n",
              "      const label = document.createElement('label');\n",
              "      label.textContent = `Downloading \"${filename}\": `;\n",
              "      div.appendChild(label);\n",
              "      const progress = document.createElement('progress');\n",
              "      progress.max = size;\n",
              "      div.appendChild(progress);\n",
              "      document.body.appendChild(div);\n",
              "\n",
              "      const buffers = [];\n",
              "      let downloaded = 0;\n",
              "\n",
              "      const channel = await google.colab.kernel.comms.open(id);\n",
              "      // Send a message to notify the kernel that we're ready.\n",
              "      channel.send({})\n",
              "\n",
              "      for await (const message of channel.messages) {\n",
              "        // Send a message to notify the kernel that we're ready.\n",
              "        channel.send({})\n",
              "        if (message.buffers) {\n",
              "          for (const buffer of message.buffers) {\n",
              "            buffers.push(buffer);\n",
              "            downloaded += buffer.byteLength;\n",
              "            progress.value = downloaded;\n",
              "          }\n",
              "        }\n",
              "      }\n",
              "      const blob = new Blob(buffers, {type: 'application/binary'});\n",
              "      const a = document.createElement('a');\n",
              "      a.href = window.URL.createObjectURL(blob);\n",
              "      a.download = filename;\n",
              "      div.appendChild(a);\n",
              "      a.click();\n",
              "      div.remove();\n",
              "    }\n",
              "  "
            ]
          },
          "metadata": {}
        },
        {
          "output_type": "display_data",
          "data": {
            "text/plain": [
              "<IPython.core.display.Javascript object>"
            ],
            "application/javascript": [
              "download(\"download_ed3580f0-c621-4e16-aa8a-12c493579267\", \"aftershocks_catalog_.csv\", 188141)"
            ]
          },
          "metadata": {}
        }
      ]
    }
  ]
}